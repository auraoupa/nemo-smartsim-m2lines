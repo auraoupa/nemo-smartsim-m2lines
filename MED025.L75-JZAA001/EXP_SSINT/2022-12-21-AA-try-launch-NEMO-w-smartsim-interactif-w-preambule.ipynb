{
 "cells": [
  {
   "cell_type": "markdown",
   "id": "188949f5",
   "metadata": {},
   "source": [
    "# prerequisites :\n",
    " - request a visu node on which the notebook will be launched : \n",
    "```\n",
    "salloc --ntasks=1 --cpus-per-task=5 --account=egi@cpu --partition=prepost --time=03:10:00 srun --pty bash\n",
    "```\n",
    "or go to https://jupyterhub.idris.fr and select python3.8.8 kernel\n",
    "\n",
    " - all the input files (coordinates, domain, bathymetry, initial conditions, damping files, runoffs, etc ..) needed to run NEMO are stored in : ```/gpfswork/rech/eee/rote001/nemo4-imhotep-main/cfgs/MED025.L75-JZAA001/INPUTS```\n",
    " - all the forcing files (atmospheric forcings +weights) needed to run NEMO are store in : ```/gpfswork/rech/eee/rote001/nemo4-imhotep-main/cfgs/MED025.L75-JZAA001/FORCING```\n",
    " - you have compiled NEMO code and the executable is here : ```/gpfswork/rech/eee/rote001/nemo4-imhotep-main/cfgs/MED025.L75-JZAA001/BLD/bin/nemo.exe```\n",
    " - you have compiled XIOS code and the excutable is here : ```/gpfswork/rech/cli/rcst991/XIOS/bin/xios_server.exe```\n",
    " - the namelists are available at : ```/gpfswork/rech/eee/rote001/nemo4-imhotep-main/cfgs/MED025.L75-JZAA001/EXP_SMSIM/```\n",
    " - the xml files are available at : ```/gpfswork/rech/eee/rote001/nemo4-imhotep-main/cfgs/MED025.L75-JZAA001/EXPREF/```"
   ]
  },
  {
   "cell_type": "code",
   "execution_count": 13,
   "id": "deb35c59",
   "metadata": {},
   "outputs": [],
   "source": [
    "from glob import glob\n",
    "from smartsim import Experiment\n",
    "from smartsim.database import Orchestrator\n",
    "from smartsim.log import log_to_file\n",
    "import warnings"
   ]
  },
  {
   "cell_type": "code",
   "execution_count": 14,
   "id": "c8ce9086",
   "metadata": {},
   "outputs": [],
   "source": [
    "def create_distributed_orchestrator(\n",
    "    exp,\n",
    "    orchestrator_port,\n",
    "    orchestrator_interface,\n",
    "    orchestrator_nodes,\n",
    "    orchestrator_nemo_node_features,\n",
    "    walltime\n",
    "    ):\n",
    "\n",
    "    orchestrator = exp.create_database(\n",
    "        port = orchestrator_port,\n",
    "        interface = orchestrator_interface,\n",
    "        db_nodes = orchestrator_nodes,\n",
    "        time=walltime,\n",
    "        threads_per_queue=2,\n",
    "        batch=True\n",
    "    )\n",
    "    \n",
    "    orchestrator.set_cpus(18)\n",
    "    orchestrator.set_batch_arg(\"account\", \"egi@cpu\")\n",
    "    orchestrator.set_batch_arg(\"exclusive\",None)\n",
    "    orchestrator.set_batch_arg(\"partition\",\"compil\")\n",
    "    \n",
    "    return orchestrator"
   ]
  },
  {
   "cell_type": "code",
   "execution_count": 15,
   "id": "071bb450",
   "metadata": {},
   "outputs": [],
   "source": [
    "def create_nemo_model(\n",
    "        experiment,\n",
    "        nemo_num_nodes,\n",
    "        nemo_tasks_per_node,\n",
    "        nemo_node_features,\n",
    "        xios_num_nodes,\n",
    "        xios_tasks_per_node,\n",
    "        xios_node_features,\n",
    "        xios_exe,\n",
    "        nemo_cfg_path,\n",
    "        nemo_input_path,\n",
    "        nemo_forcing_path,\n",
    "        walltime\n",
    "    ):\n",
    "\n",
    "    # Specify the job settings for jean-zay\n",
    "    batch_args = {\n",
    "        \"ntasks\":40,\n",
    "        \"partition\": \"compil\",\n",
    "        \"export\":\"ALL\"\n",
    "    }\n",
    "    nemo_batch_settings = experiment.create_batch_settings(\n",
    "        nodes=nemo_num_nodes+xios_num_nodes,\n",
    "        time=walltime,\n",
    "        account=\"egi@cpu\",\n",
    "        batch_args=batch_args\n",
    "    )\n",
    "    nemo_batch_settings.add_preamble('source /linkhome/rech/genige01/rote001/smart_path.ksh; module load intel-all/2019.4; module load hdf5/1.10.5-mpi; module load netcdf/4.7.2-mpi; ldd /gpfswork/rech/eee/rote001/nemo4-imhotep-main/cfgs/MED025.L75-JZAA001/BLD/bin/nemo.exe')\n",
    "    # Create NEMO portion of the MPMD job\n",
    "    nemo_run_settings = experiment.create_run_settings(\n",
    "        f\"{nemo_cfg_path}/BLD/bin/nemo.exe\",\n",
    "        run_command=\"srun\"\n",
    "    )\n",
    "\n",
    "    nemo_run_settings.set_tasks_per_node(nemo_tasks_per_node)\n",
    "    nemo_run_settings.set_tasks(nemo_num_nodes*nemo_tasks_per_node)\n",
    "    # Create a 1-member ensemble to launch the model\n",
    "\n",
    "    nemo_model = experiment.create_ensemble(\n",
    "        \"nemo\",\n",
    "        batch_settings = nemo_batch_settings,\n",
    "        run_settings   = nemo_run_settings,\n",
    "        replicas=1\n",
    "    )\n",
    "    xml_files = glob(f\"{nemo_cfg_path}/EXPREF/*.xml\")\n",
    "    namelist_files = glob(f\"{nemo_cfg_path}/EXP_SMSIM/namelist*\")\n",
    "    forcing_files = glob(f\"{nemo_forcing_path}/*\")\n",
    "    forcing_files+= glob(f\"{nemo_input_path}/*\")\n",
    "\n",
    "    nemo_model.attach_generator_files(\n",
    "        to_configure=namelist_files,\n",
    "        to_copy=xml_files,\n",
    "        to_symlink=forcing_files\n",
    "    )\n",
    "\n",
    "    return nemo_model"
   ]
  },
  {
   "cell_type": "code",
   "execution_count": 16,
   "id": "07992999-28b9-40b4-9134-ca8ce54a3fd3",
   "metadata": {},
   "outputs": [],
   "source": [
    "def configure_nemo_model(\n",
    "    ensemble,\n",
    "    job_number,\n",
    "    first_time_step,\n",
    "    last_time_step,\n",
    "    restart_flag,\n",
    "    restart_directory\n",
    "    ):\n",
    "\n",
    "    nemo_config_options = {\n",
    "        \"NN_NO\": job_number,\n",
    "        \"NIT000\": first_time_step,\n",
    "        \"NITEND\": last_time_step,\n",
    "        \"RESTART\": restart_flag,\n",
    "        \"CN_DIRRST\": restart_directory\n",
    "    }\n",
    "\n",
    "    for model in ensemble: \n",
    "        model.params = nemo_config_options\n",
    "        model.register_incoming_entity(model)\n",
    "\n",
    "    return ensemble"
   ]
  },
  {
   "cell_type": "code",
   "execution_count": 17,
   "id": "75283fd2",
   "metadata": {},
   "outputs": [],
   "source": [
    "#params\n",
    "nemo_num_nodes=1\n",
    "nemo_tasks_per_node=40\n",
    "nemo_node_features=False\n",
    "xios_num_nodes=0\n",
    "xios_tasks_per_node=0\n",
    "xios_node_features=''\n",
    "nemo_cfg_path=\"/gpfswork/rech/eee/rote001/nemo4-imhotep-main/cfgs/MED025.L75-JZAA001\"\n",
    "nemo_forcing_path=\"/gpfswork/rech/eee/rote001/nemo4-imhotep-main/cfgs/MED025.L75-JZAA001/FORCING\"\n",
    "nemo_input_path=\"/gpfswork/rech/eee/rote001/nemo4-imhotep-main/cfgs/MED025.L75-JZAA001/MY_INPUTS\"\n",
    "xios_exe=\"/gpfswork/rech/cli/rcst991/XIOS/bin/xios_server.exe\"\n",
    "job_number = 1\n",
    "first_time_step = 1\n",
    "last_time_step = 6000\n",
    "restart_flag = \".false.\"\n",
    "restart_directory = \"/gpfswork/rech/eee/rote001/nemo4-imhotep-main/cfgs/MED025.L75-JZAA001\"\n",
    "orchestrator_port=6780\n",
    "orchestrator_interface='ib0'\n",
    "orchestrator_nodes=1\n",
    "orchestrator_nemo_node_features=False\n",
    "walltime=\"00:15:00\""
   ]
  },
  {
   "cell_type": "code",
   "execution_count": 18,
   "id": "5048f841",
   "metadata": {},
   "outputs": [],
   "source": [
    "experiment = Experiment(\"NEMO-MEDITERR\", launcher=\"slurm\")\n"
   ]
  },
  {
   "cell_type": "code",
   "execution_count": 19,
   "id": "11e2189a",
   "metadata": {},
   "outputs": [],
   "source": [
    "    nemo_model = create_nemo_model(\n",
    "        experiment,\n",
    "        nemo_num_nodes,\n",
    "        nemo_tasks_per_node,\n",
    "        nemo_node_features,\n",
    "        xios_num_nodes,\n",
    "        xios_tasks_per_node,\n",
    "        xios_node_features,\n",
    "        xios_exe,\n",
    "        nemo_cfg_path,\n",
    "        nemo_input_path,\n",
    "        nemo_forcing_path,\n",
    "        walltime\n",
    "     )\n"
   ]
  },
  {
   "cell_type": "code",
   "execution_count": 20,
   "id": "1e0271fe",
   "metadata": {},
   "outputs": [
    {
     "data": {
      "text/plain": [
       "<smartsim.entity.ensemble.Ensemble at 0x14b1a37f1ca0>"
      ]
     },
     "execution_count": 20,
     "metadata": {},
     "output_type": "execute_result"
    }
   ],
   "source": [
    "    configure_nemo_model(\n",
    "        nemo_model,\n",
    "        job_number,\n",
    "        first_time_step,\n",
    "        last_time_step,\n",
    "        restart_flag,\n",
    "        restart_directory\n",
    "    )\n"
   ]
  },
  {
   "cell_type": "code",
   "execution_count": 21,
   "id": "de45c115",
   "metadata": {},
   "outputs": [],
   "source": [
    "    orchestrator = create_distributed_orchestrator(\n",
    "        experiment,\n",
    "        orchestrator_port,\n",
    "        orchestrator_interface,\n",
    "        orchestrator_nodes,\n",
    "        orchestrator_nemo_node_features,\n",
    "        walltime\n",
    "    )\n",
    "\n"
   ]
  },
  {
   "cell_type": "code",
   "execution_count": 22,
   "id": "0822af95",
   "metadata": {},
   "outputs": [
    {
     "name": "stdout",
     "output_type": "stream",
     "text": [
      "14:28:56 jean-zay-pp1 SmartSim[2732542] INFO Working in previously created experiment\n",
      "14:28:57 jean-zay-pp1 SmartSim[2732542] WARNING Unused tag  partial slip (0-2)  on line(s): [57]\n",
      "14:28:57 jean-zay-pp1 SmartSim[2732542] WARNING Unused tag  partial slip (0-2)  on line(s): [57]\n"
     ]
    }
   ],
   "source": [
    "    experiment.generate( nemo_model, orchestrator, overwrite=True )\n"
   ]
  },
  {
   "cell_type": "code",
   "execution_count": 23,
   "id": "233703ef",
   "metadata": {},
   "outputs": [
    {
     "name": "stdout",
     "output_type": "stream",
     "text": [
      "14:28:57 jean-zay-pp1 SmartSim[2732542] INFO \n",
      "\n",
      "=== Launch Summary ===\n",
      "Experiment: NEMO-MEDITERR\n",
      "Experiment Path: /gpfsdswork/projects/rech/eee/rote001/nemo4-imhotep-main/cfgs/MED025.L75-JZAA001/EXP_SSINT/NEMO-MEDITERR\n",
      "Launcher: slurm\n",
      "Ensembles: 1\n",
      "Database Status: launching\n",
      "\n",
      "=== Ensembles ===\n",
      "nemo\n",
      "Members: 1\n",
      "Batch Launch: True\n",
      "Batch Command: sbatch\n",
      "Batch arguments:\n",
      "\tntasks = 40\n",
      "\tpartition = compil\n",
      "\texport = ALL\n",
      "\tnodes = 1\n",
      "\ttime = 00:15:00\n",
      "\taccount = egi@cpu\n",
      "\n",
      "=== Database ===\n",
      "Shards: 1\n",
      "Port: 6780\n",
      "Network: ib0\n",
      "Batch Launch: True\n",
      "Batch Command: sbatch\n",
      "Batch arguments:\n",
      "\tnodes = 1\n",
      "\ttime = 00:15:00\n",
      "\tcpus-per-task = 18\n",
      "\taccount = egi@cpu\n",
      "\texclusive = None\n",
      "\tpartition = compil\n",
      "\n",
      "\n"
     ]
    },
    {
     "name": "stderr",
     "output_type": "stream",
     "text": [
      "                                                                                \r"
     ]
    },
    {
     "name": "stdout",
     "output_type": "stream",
     "text": [
      "14:29:14 jean-zay-pp1 SmartSim[2732542] INFO Orchestrator launched as a batch\n",
      "14:29:14 jean-zay-pp1 SmartSim[2732542] INFO While queued, SmartSim will wait for Orchestrator to run\n",
      "14:29:14 jean-zay-pp1 SmartSim[2732542] INFO CTRL+C interrupt to abort and cancel launch\n",
      "14:29:43 jean-zay-pp1 SmartSim[2732542] INFO nemo(1696550): New\n",
      "14:29:48 jean-zay-pp1 SmartSim[2732542] INFO nemo(1696550): Paused\n",
      "14:29:53 jean-zay-pp1 SmartSim[2732542] INFO nemo(1696550): Paused\n",
      "14:29:58 jean-zay-pp1 SmartSim[2732542] INFO nemo(1696550): Paused\n",
      "14:30:03 jean-zay-pp1 SmartSim[2732542] INFO nemo(1696550): Paused\n",
      "14:30:08 jean-zay-pp1 SmartSim[2732542] INFO nemo(1696550): Paused\n",
      "14:30:13 jean-zay-pp1 SmartSim[2732542] INFO nemo(1696550): Paused\n",
      "14:30:18 jean-zay-pp1 SmartSim[2732542] INFO nemo(1696550): Running\n",
      "14:30:23 jean-zay-pp1 SmartSim[2732542] INFO nemo(1696550): Running\n",
      "14:30:28 jean-zay-pp1 SmartSim[2732542] INFO nemo(1696550): Completed\n",
      "14:30:28 jean-zay-pp1 SmartSim[2732542] INFO nemo(1696550): Completed\n"
     ]
    }
   ],
   "source": [
    "    experiment.start(nemo_model, orchestrator, summary=True)\n"
   ]
  },
  {
   "cell_type": "code",
   "execution_count": 24,
   "id": "65951325",
   "metadata": {},
   "outputs": [
    {
     "name": "stdout",
     "output_type": "stream",
     "text": [
      "14:30:33 jean-zay-pp1 SmartSim[2732542] INFO Stopping model orchestrator with job name orchestrator-CP7J5COV7FNU\n"
     ]
    }
   ],
   "source": [
    "    experiment.stop(orchestrator)"
   ]
  },
  {
   "cell_type": "code",
   "execution_count": 25,
   "id": "588f4113-bad4-414f-83c8-fd1189e5177b",
   "metadata": {},
   "outputs": [
    {
     "name": "stdout",
     "output_type": "stream",
     "text": [
      "nemo_0\tnemo.err  nemo.out  nemo.sh\n"
     ]
    }
   ],
   "source": [
    "!ls NEMO-MEDITERR/nemo"
   ]
  },
  {
   "cell_type": "code",
   "execution_count": 26,
   "id": "dbf94417-8827-45d2-a36e-88bab3c6b057",
   "metadata": {},
   "outputs": [
    {
     "name": "stdout",
     "output_type": "stream",
     "text": [
      "#!/bin/bash\n",
      "\n",
      "#SBATCH --output=/gpfsdswork/projects/rech/eee/rote001/nemo4-imhotep-main/cfgs/MED025.L75-JZAA001/EXP_SSINT/NEMO-MEDITERR/nemo/nemo.out\n",
      "#SBATCH --error=/gpfsdswork/projects/rech/eee/rote001/nemo4-imhotep-main/cfgs/MED025.L75-JZAA001/EXP_SSINT/NEMO-MEDITERR/nemo/nemo.err\n",
      "#SBATCH --job-name=nemo-CP7J5P8RLKWX\n",
      "#SBATCH --ntasks=40\n",
      "#SBATCH --partition=compil\n",
      "#SBATCH --export=ALL\n",
      "#SBATCH --nodes=1\n",
      "#SBATCH --time=00:15:00\n",
      "#SBATCH --account=egi@cpu\n",
      "source /linkhome/rech/genige01/rote001/smart_path.ksh; module load intel-all/2019.4; module load hdf5/1.10.5-mpi; module load netcdf/4.7.2-mpi; ldd /gpfswork/rech/eee/rote001/nemo4-imhotep-main/cfgs/MED025.L75-JZAA001/BLD/bin/nemo.exe\n",
      "\n",
      "cd /gpfsdswork/projects/rech/eee/rote001/nemo4-imhotep-main/cfgs/MED025.L75-JZAA001/EXP_SSINT/NEMO-MEDITERR/nemo/nemo_0 ; /gpfslocalsys/slurm/current/bin/srun --output /gpfsdswork/projects/rech/eee/rote001/nemo4-imhotep-main/cfgs/MED025.L75-JZAA001/EXP_SSINT/NEMO-MEDITERR/nemo/nemo_0/nemo_0.out --error /gpfsdswork/projects/rech/eee/rote001/nemo4-imhotep-main/cfgs/MED025.L75-JZAA001/EXP_SSINT/NEMO-MEDITERR/nemo/nemo_0/nemo_0.err --job-name nemo_0-CP7J5P9O2GV4 --export SSDB=10.148.251.13:6780,SSKEYIN=nemo_0,SSKEYOUT=nemo_0 --ntasks-per-node=40 --ntasks=40 /gpfswork/rech/eee/rote001/nemo4-imhotep-main/cfgs/MED025.L75-JZAA001/BLD/bin/nemo.exe &\n",
      "\n",
      "wait\n"
     ]
    }
   ],
   "source": [
    "!cat NEMO-MEDITERR/nemo/nemo.sh"
   ]
  },
  {
   "cell_type": "code",
   "execution_count": 27,
   "id": "53f17073-a6c8-484d-af19-e343c853c617",
   "metadata": {},
   "outputs": [
    {
     "name": "stdout",
     "output_type": "stream",
     "text": [
      "\tlinux-vdso.so.1 (0x000014eaceec5000)\n",
      "\tlibstdc++.so.6 => /lib64/libstdc++.so.6 (0x000014eace906000)\n",
      "\tlibsmartredis.so => /gpfswork/rech/eee/rote001/git/smartredis/install/lib/libsmartredis.so (0x000014eace60d000)\n",
      "\tlibnetcdff.so.7 => /gpfslocalsup/spack_soft/netcdf-fortran/4.5.2/intel-19.0.4-knfz4zgnj6ohnfqulsg2z55orygeb7we/lib/libnetcdff.so.7 (0x000014eace044000)\n",
      "\tlibnetcdf.so.15 => /gpfslocalsup/spack_soft/netcdf/4.7.2/intel-19.0.4-cqo7jj3yxaprhm23gr2tfq2f4epw7k3r/lib/libnetcdf.so.15 (0x000014eacdd0a000)\n",
      "\tlibhdf5_hl.so.100 => /gpfslocalsup/spack_soft/hdf5/1.10.5/intel-19.0.4-lnysdcbocfokaq4yxc72wiplpfknw7e6/lib/libhdf5_hl.so.100 (0x000014eacdae0000)\n",
      "\tlibhdf5.so.103 => /gpfslocalsup/spack_soft/hdf5/1.10.5/intel-19.0.4-lnysdcbocfokaq4yxc72wiplpfknw7e6/lib/libhdf5.so.103 (0x000014eacd406000)\n",
      "\tlibz.so.1 => /lib64/libz.so.1 (0x000014eacd1ee000)\n",
      "\tlibmpifort.so.12 => /gpfslocalsys/intel/parallel_studio_xe_2019_update4_cluster_edition/compilers_and_libraries_2019.4.243/linux/mpi/intel64/lib/libmpifort.so.12 (0x000014eacce2f000)\n",
      "\tlibmpi.so.12 => /gpfslocalsys/intel/parallel_studio_xe_2019_update4_cluster_edition/compilers_and_libraries_2019.4.243/linux/mpi/intel64/lib/release/libmpi.so.12 (0x000014eacbf3d000)\n",
      "\tlibdl.so.2 => /lib64/libdl.so.2 (0x000014eacbd39000)\n",
      "\tlibrt.so.1 => /lib64/librt.so.1 (0x000014eacbb31000)\n",
      "\tlibpthread.so.0 => /lib64/libpthread.so.0 (0x000014eacb911000)\n",
      "\tlibm.so.6 => /lib64/libm.so.6 (0x000014eacb58f000)\n",
      "\tlibgcc_s.so.1 => /lib64/libgcc_s.so.1 (0x000014eacb377000)\n",
      "\tlibc.so.6 => /lib64/libc.so.6 (0x000014eacafb2000)\n",
      "\t/lib64/ld-linux-x86-64.so.2 (0x000014eacec9b000)\n",
      "\tlibifport.so.5 => /gpfslocalsys/intel/parallel_studio_xe_2019_update4_cluster_edition/compilers_and_libraries_2019.4.243/linux/compiler/lib/intel64_lin/libifport.so.5 (0x000014eacad84000)\n",
      "\tlibifcoremt.so.5 => /gpfslocalsys/intel/parallel_studio_xe_2019_update4_cluster_edition/compilers_and_libraries_2019.4.243/linux/compiler/lib/intel64_lin/libifcoremt.so.5 (0x000014eaca9ef000)\n",
      "\tlibimf.so => /gpfslocalsys/intel/parallel_studio_xe_2019_update4_cluster_edition/compilers_and_libraries_2019.4.243/linux/compiler/lib/intel64_lin/libimf.so (0x000014eaca44f000)\n",
      "\tlibsvml.so => /gpfslocalsys/intel/parallel_studio_xe_2019_update4_cluster_edition/compilers_and_libraries_2019.4.243/linux/compiler/lib/intel64_lin/libsvml.so (0x000014eac8aab000)\n",
      "\tlibintlc.so.5 => /gpfslocalsys/intel/parallel_studio_xe_2019_update4_cluster_edition/compilers_and_libraries_2019.4.243/linux/compiler/lib/intel64_lin/libintlc.so.5 (0x000014eac8839000)\n",
      "\tlibirng.so => /gpfslocalsys/intel/parallel_studio_xe_2019_update4_cluster_edition/compilers_and_libraries_2019.4.243/linux/compiler/lib/intel64_lin/libirng.so (0x000014eac84c7000)\n",
      "\tlibfabric.so.1 => /gpfslocalsys/intel/parallel_studio_xe_2019_update4_cluster_edition/compilers_and_libraries_2019.4.243/linux/mpi/intel64/libfabric/lib/libfabric.so.1 (0x000014eac828f000)\n"
     ]
    }
   ],
   "source": [
    "!cat NEMO-MEDITERR/nemo/nemo.out"
   ]
  },
  {
   "cell_type": "code",
   "execution_count": 28,
   "id": "fcdd96d2-fb81-4d55-9f6f-f3a4aac17b3d",
   "metadata": {},
   "outputs": [
    {
     "name": "stdout",
     "output_type": "stream",
     "text": [
      "Loading intel-all/2019.4\n",
      "  Loading requirement: intel-compilers/19.0.4 intel-mkl/2019.4 intel-mpi/2019.4\n",
      "    intel-vtune/2019.4 intel-advisor/2019.4 intel-tbb/2019.6 intel-itac/2019.4\n",
      "srun: error: jean-zay-pp4: tasks 0-39: Exited with exit code 127\n",
      "srun: launch/slurm: _step_signal: Terminating StepId=1696550.0\n"
     ]
    }
   ],
   "source": [
    "!cat NEMO-MEDITERR/nemo/nemo.err"
   ]
  },
  {
   "cell_type": "code",
   "execution_count": 29,
   "id": "8cad3c53-a309-4e63-8c89-61ceb36fdc46",
   "metadata": {},
   "outputs": [],
   "source": [
    "!cat NEMO-MEDITERR/nemo/nemo_0/nemo_0.out"
   ]
  },
  {
   "cell_type": "code",
   "execution_count": 30,
   "id": "d44e9ed9-ccb3-432f-89df-94fe6e2b86ee",
   "metadata": {},
   "outputs": [
    {
     "name": "stdout",
     "output_type": "stream",
     "text": [
      "/gpfswork/rech/eee/rote001/nemo4-imhotep-main/cfgs/MED025.L75-JZAA001/BLD/bin/nemo.exe: error while loading shared libraries: libnetcdff.so.7: cannot open shared object file: No such file or directory\n",
      "/gpfswork/rech/eee/rote001/nemo4-imhotep-main/cfgs/MED025.L75-JZAA001/BLD/bin/nemo.exe: error while loading shared libraries: libnetcdff.so.7: cannot open shared object file: No such file or directory\n",
      "/gpfswork/rech/eee/rote001/nemo4-imhotep-main/cfgs/MED025.L75-JZAA001/BLD/bin/nemo.exe: error while loading shared libraries: libnetcdff.so.7: cannot open shared object file: No such file or directory\n",
      "/gpfswork/rech/eee/rote001/nemo4-imhotep-main/cfgs/MED025.L75-JZAA001/BLD/bin/nemo.exe: error while loading shared libraries: libnetcdff.so.7: cannot open shared object file: No such file or directory\n",
      "/gpfswork/rech/eee/rote001/nemo4-imhotep-main/cfgs/MED025.L75-JZAA001/BLD/bin/nemo.exe: error while loading shared libraries: libnetcdff.so.7: cannot open shared object file: No such file or directory\n",
      "/gpfswork/rech/eee/rote001/nemo4-imhotep-main/cfgs/MED025.L75-JZAA001/BLD/bin/nemo.exe: error while loading shared libraries: libnetcdff.so.7: cannot open shared object file: No such file or directory\n",
      "/gpfswork/rech/eee/rote001/nemo4-imhotep-main/cfgs/MED025.L75-JZAA001/BLD/bin/nemo.exe: error while loading shared libraries: libnetcdff.so.7: cannot open shared object file: No such file or directory\n",
      "/gpfswork/rech/eee/rote001/nemo4-imhotep-main/cfgs/MED025.L75-JZAA001/BLD/bin/nemo.exe: error while loading shared libraries: libnetcdff.so.7: cannot open shared object file: No such file or directory\n",
      "/gpfswork/rech/eee/rote001/nemo4-imhotep-main/cfgs/MED025.L75-JZAA001/BLD/bin/nemo.exe: error while loading shared libraries: libnetcdff.so.7: cannot open shared object file: No such file or directory\n",
      "/gpfswork/rech/eee/rote001/nemo4-imhotep-main/cfgs/MED025.L75-JZAA001/BLD/bin/nemo.exe: error while loading shared libraries: libnetcdff.so.7: cannot open shared object file: No such file or directory\n",
      "/gpfswork/rech/eee/rote001/nemo4-imhotep-main/cfgs/MED025.L75-JZAA001/BLD/bin/nemo.exe: error while loading shared libraries: libnetcdff.so.7: cannot open shared object file: No such file or directory\n",
      "/gpfswork/rech/eee/rote001/nemo4-imhotep-main/cfgs/MED025.L75-JZAA001/BLD/bin/nemo.exe: error while loading shared libraries: libnetcdff.so.7: cannot open shared object file: No such file or directory\n",
      "/gpfswork/rech/eee/rote001/nemo4-imhotep-main/cfgs/MED025.L75-JZAA001/BLD/bin/nemo.exe: error while loading shared libraries: libnetcdff.so.7: cannot open shared object file: No such file or directory\n",
      "/gpfswork/rech/eee/rote001/nemo4-imhotep-main/cfgs/MED025.L75-JZAA001/BLD/bin/nemo.exe: error while loading shared libraries: libnetcdff.so.7: cannot open shared object file: No such file or directory\n",
      "/gpfswork/rech/eee/rote001/nemo4-imhotep-main/cfgs/MED025.L75-JZAA001/BLD/bin/nemo.exe: error while loading shared libraries: libnetcdff.so.7: cannot open shared object file: No such file or directory\n",
      "/gpfswork/rech/eee/rote001/nemo4-imhotep-main/cfgs/MED025.L75-JZAA001/BLD/bin/nemo.exe: error while loading shared libraries: libnetcdff.so.7: cannot open shared object file: No such file or directory\n",
      "/gpfswork/rech/eee/rote001/nemo4-imhotep-main/cfgs/MED025.L75-JZAA001/BLD/bin/nemo.exe: error while loading shared libraries: libnetcdff.so.7: cannot open shared object file: No such file or directory\n",
      "/gpfswork/rech/eee/rote001/nemo4-imhotep-main/cfgs/MED025.L75-JZAA001/BLD/bin/nemo.exe: error while loading shared libraries: libnetcdff.so.7: cannot open shared object file: No such file or directory\n",
      "/gpfswork/rech/eee/rote001/nemo4-imhotep-main/cfgs/MED025.L75-JZAA001/BLD/bin/nemo.exe: error while loading shared libraries: libnetcdff.so.7: cannot open shared object file: No such file or directory\n",
      "/gpfswork/rech/eee/rote001/nemo4-imhotep-main/cfgs/MED025.L75-JZAA001/BLD/bin/nemo.exe: error while loading shared libraries: libnetcdff.so.7: cannot open shared object file: No such file or directory\n",
      "/gpfswork/rech/eee/rote001/nemo4-imhotep-main/cfgs/MED025.L75-JZAA001/BLD/bin/nemo.exe: error while loading shared libraries: libnetcdff.so.7: cannot open shared object file: No such file or directory\n",
      "/gpfswork/rech/eee/rote001/nemo4-imhotep-main/cfgs/MED025.L75-JZAA001/BLD/bin/nemo.exe: error while loading shared libraries: libnetcdff.so.7: cannot open shared object file: No such file or directory\n",
      "/gpfswork/rech/eee/rote001/nemo4-imhotep-main/cfgs/MED025.L75-JZAA001/BLD/bin/nemo.exe: error while loading shared libraries: libnetcdff.so.7: cannot open shared object file: No such file or directory\n",
      "/gpfswork/rech/eee/rote001/nemo4-imhotep-main/cfgs/MED025.L75-JZAA001/BLD/bin/nemo.exe: error while loading shared libraries: libnetcdff.so.7: cannot open shared object file: No such file or directory\n",
      "/gpfswork/rech/eee/rote001/nemo4-imhotep-main/cfgs/MED025.L75-JZAA001/BLD/bin/nemo.exe: error while loading shared libraries: libnetcdff.so.7: cannot open shared object file: No such file or directory\n",
      "/gpfswork/rech/eee/rote001/nemo4-imhotep-main/cfgs/MED025.L75-JZAA001/BLD/bin/nemo.exe: error while loading shared libraries: libnetcdff.so.7: cannot open shared object file: No such file or directory\n",
      "/gpfswork/rech/eee/rote001/nemo4-imhotep-main/cfgs/MED025.L75-JZAA001/BLD/bin/nemo.exe: error while loading shared libraries: libnetcdff.so.7: cannot open shared object file: No such file or directory\n",
      "/gpfswork/rech/eee/rote001/nemo4-imhotep-main/cfgs/MED025.L75-JZAA001/BLD/bin/nemo.exe: error while loading shared libraries: libnetcdff.so.7: cannot open shared object file: No such file or directory\n",
      "/gpfswork/rech/eee/rote001/nemo4-imhotep-main/cfgs/MED025.L75-JZAA001/BLD/bin/nemo.exe: error while loading shared libraries: libnetcdff.so.7: cannot open shared object file: No such file or directory\n",
      "/gpfswork/rech/eee/rote001/nemo4-imhotep-main/cfgs/MED025.L75-JZAA001/BLD/bin/nemo.exe: error while loading shared libraries: libnetcdff.so.7: cannot open shared object file: No such file or directory\n",
      "/gpfswork/rech/eee/rote001/nemo4-imhotep-main/cfgs/MED025.L75-JZAA001/BLD/bin/nemo.exe: error while loading shared libraries: libnetcdff.so.7: cannot open shared object file: No such file or directory\n",
      "/gpfswork/rech/eee/rote001/nemo4-imhotep-main/cfgs/MED025.L75-JZAA001/BLD/bin/nemo.exe: error while loading shared libraries: libnetcdff.so.7: cannot open shared object file: No such file or directory\n",
      "/gpfswork/rech/eee/rote001/nemo4-imhotep-main/cfgs/MED025.L75-JZAA001/BLD/bin/nemo.exe: error while loading shared libraries: libnetcdff.so.7: cannot open shared object file: No such file or directory\n",
      "/gpfswork/rech/eee/rote001/nemo4-imhotep-main/cfgs/MED025.L75-JZAA001/BLD/bin/nemo.exe: error while loading shared libraries: libnetcdff.so.7: cannot open shared object file: No such file or directory\n",
      "/gpfswork/rech/eee/rote001/nemo4-imhotep-main/cfgs/MED025.L75-JZAA001/BLD/bin/nemo.exe: error while loading shared libraries: libnetcdff.so.7: cannot open shared object file: No such file or directory\n",
      "/gpfswork/rech/eee/rote001/nemo4-imhotep-main/cfgs/MED025.L75-JZAA001/BLD/bin/nemo.exe: error while loading shared libraries: libnetcdff.so.7: cannot open shared object file: No such file or directory\n",
      "/gpfswork/rech/eee/rote001/nemo4-imhotep-main/cfgs/MED025.L75-JZAA001/BLD/bin/nemo.exe: error while loading shared libraries: libnetcdff.so.7: cannot open shared object file: No such file or directory\n",
      "/gpfswork/rech/eee/rote001/nemo4-imhotep-main/cfgs/MED025.L75-JZAA001/BLD/bin/nemo.exe: error while loading shared libraries: libnetcdff.so.7: cannot open shared object file: No such file or directory\n",
      "/gpfswork/rech/eee/rote001/nemo4-imhotep-main/cfgs/MED025.L75-JZAA001/BLD/bin/nemo.exe: error while loading shared libraries: libnetcdff.so.7: cannot open shared object file: No such file or directory\n",
      "/gpfswork/rech/eee/rote001/nemo4-imhotep-main/cfgs/MED025.L75-JZAA001/BLD/bin/nemo.exe: error while loading shared libraries: libnetcdff.so.7: cannot open shared object file: No such file or directory\n"
     ]
    }
   ],
   "source": [
    "!cat NEMO-MEDITERR/nemo/nemo_0/nemo_0.err"
   ]
  },
  {
   "cell_type": "code",
   "execution_count": 31,
   "id": "4880560f-7404-4146-92fd-e36452a742ad",
   "metadata": {},
   "outputs": [
    {
     "name": "stdout",
     "output_type": "stream",
     "text": [
      "/gpfslocalsup/spack_soft/netcdf-fortran/4.5.2/intel-19.0.4-knfz4zgnj6ohnfqulsg2z55orygeb7we/lib/libnetcdff.so.7\n"
     ]
    }
   ],
   "source": [
    "!ls /gpfslocalsup/spack_soft/netcdf-fortran/4.5.2/intel-19.0.4-knfz4zgnj6ohnfqulsg2z55orygeb7we/lib/libnetcdff.so.7"
   ]
  },
  {
   "cell_type": "code",
   "execution_count": null,
   "id": "32703179-453a-4830-9cff-087315ceba71",
   "metadata": {},
   "outputs": [],
   "source": []
  }
 ],
 "metadata": {
  "kernelspec": {
   "display_name": "python3.8.8",
   "language": "python",
   "name": "python3.8.8"
  },
  "language_info": {
   "codemirror_mode": {
    "name": "ipython",
    "version": 3
   },
   "file_extension": ".py",
   "mimetype": "text/x-python",
   "name": "python",
   "nbconvert_exporter": "python",
   "pygments_lexer": "ipython3",
   "version": "3.8.8"
  }
 },
 "nbformat": 4,
 "nbformat_minor": 5
}
